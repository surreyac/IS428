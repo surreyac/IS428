{
 "cells": [
  {
   "cell_type": "code",
   "execution_count": 1,
   "id": "732d9f63",
   "metadata": {},
   "outputs": [],
   "source": [
    "import datascience"
   ]
  },
  {
   "cell_type": "code",
   "execution_count": 2,
   "id": "a17db1dc",
   "metadata": {},
   "outputs": [
    {
     "name": "stdout",
     "output_type": "stream",
     "text": [
      "    CrimeDate CrimeTime CrimeCode            Location          Description  \\\n",
      "0  02/08/2020   2:18:00        5D  1700 CLIFTVIEW AVE             BURGLARY   \n",
      "1  02/08/2020   6:00:00        6G   700 N STREEPER ST              LARCENY   \n",
      "2  02/08/2020   9:50:00       3JF     1400 N BROADWAY  ROBBERY - RESIDENCE   \n",
      "3  02/08/2020   9:50:00       3JF     1400 N BROADWAY  ROBBERY - RESIDENCE   \n",
      "4  02/08/2020  17:30:00        5A    1600 E OLIVER ST             BURGLARY   \n",
      "\n",
      "  Inside/Outside   Weapon   Post District     Neighborhood  Longitude  \\\n",
      "0              I      NaN  312.0  EASTERN      DARLEY PARK -76.593870   \n",
      "1              I      NaN  333.0  EASTERN  MADISON EASTEND -76.577425   \n",
      "2              I  FIREARM  314.0  EASTERN           OLIVER -76.594992   \n",
      "3              I  FIREARM  314.0  EASTERN           OLIVER -76.594992   \n",
      "4              I      NaN  314.0  EASTERN           OLIVER -76.595946   \n",
      "\n",
      "    Latitude  Location 1             Premise  vri_name1  Total Incidents  \n",
      "0  39.315341         NaN  GROCERY/CONFECTION  Eastern 1                1  \n",
      "1  39.299094         NaN   ROW/TOWNHOUSE-OCC        NaN                1  \n",
      "2  39.306941         NaN   ROW/TOWNHOUSE-OCC        NaN                1  \n",
      "3  39.306941         NaN   ROW/TOWNHOUSE-OCC        NaN                1  \n",
      "4  39.307350         NaN   ROW/TOWNHOUSE-OCC  Eastern 1                1  \n"
     ]
    },
    {
     "name": "stderr",
     "output_type": "stream",
     "text": [
      "/var/folders/gl/yfrd10rx2wn9m4_b63dbblc40000gn/T/ipykernel_80728/3299378102.py:5: DtypeWarning: Columns (7) have mixed types. Specify dtype option on import or set low_memory=False.\n",
      "  df = pd.read_csv(filepath)\n"
     ]
    }
   ],
   "source": [
    "import pandas as pd\n",
    "\n",
    "filepath = \"/Users/surreya/Jupyter/Baltimore911.csv\"\n",
    "\n",
    "df = pd.read_csv(filepath)\n",
    "\n",
    "print(df.head())"
   ]
  },
  {
   "cell_type": "code",
   "execution_count": 11,
   "id": "816ba1bf",
   "metadata": {},
   "outputs": [
    {
     "name": "stderr",
     "output_type": "stream",
     "text": [
      "/var/folders/gl/yfrd10rx2wn9m4_b63dbblc40000gn/T/ipykernel_80728/216066492.py:4: DtypeWarning: Columns (7) have mixed types. Specify dtype option on import or set low_memory=False.\n",
      "  data = pd.read_csv('Baltimore911.csv')\n"
     ]
    },
    {
     "name": "stdout",
     "output_type": "stream",
     "text": [
      "        Column Name Data Type        Min        Max     Median       Mean  \\\n",
      "0         CrimeDate    object        NaN        NaN        NaN        NaN   \n",
      "1         CrimeTime    object        NaN        NaN        NaN        NaN   \n",
      "2         CrimeCode    object        NaN        NaN        NaN        NaN   \n",
      "3          Location    object        NaN        NaN        NaN        NaN   \n",
      "4       Description    object        NaN        NaN        NaN        NaN   \n",
      "5    Inside/Outside    object        NaN        NaN        NaN        NaN   \n",
      "6            Weapon    object        NaN        NaN        NaN        NaN   \n",
      "7              Post    object        NaN        NaN        NaN        NaN   \n",
      "8          District    object        NaN        NaN        NaN        NaN   \n",
      "9      Neighborhood    object        NaN        NaN        NaN        NaN   \n",
      "10        Longitude   Spatial -81.529189 -76.383228 -76.613977 -76.617452   \n",
      "11         Latitude   Spatial  37.577262  39.661332  39.302672  39.306746   \n",
      "12       Location 1   float64        NaN        NaN        NaN        NaN   \n",
      "13          Premise    object        NaN        NaN        NaN        NaN   \n",
      "14        vri_name1    object        NaN        NaN        NaN        NaN   \n",
      "15  Total Incidents     int64   1.000000   1.000000   1.000000   1.000000   \n",
      "\n",
      "    Std Deviation  Total Unique Values  \\\n",
      "0             NaN               2300.0   \n",
      "1             NaN               1475.0   \n",
      "2             NaN                 81.0   \n",
      "3             NaN              27064.0   \n",
      "4             NaN                 14.0   \n",
      "5             NaN                  4.0   \n",
      "6             NaN                  5.0   \n",
      "7             NaN                259.0   \n",
      "8             NaN                 10.0   \n",
      "9             NaN                278.0   \n",
      "10       0.043734                  NaN   \n",
      "11       0.029658                  NaN   \n",
      "12            NaN                  NaN   \n",
      "13            NaN                125.0   \n",
      "14            NaN                  8.0   \n",
      "15       0.000000                  NaN   \n",
      "\n",
      "                                         Top 3 Values  Percentage Missing  \n",
      "0   04/27/2015: 421, 06/05/2016: 255, 12/20/2018: 212            0.000000  \n",
      "1      18:00:00: 6772, 17:00:00: 6463, 12:00:00: 6037            0.008881  \n",
      "2                     4E: 48061, 6D: 38977, 5A: 25351            0.000000  \n",
      "3   1500 RUSSELL ST: 847, 3500 BOSTON ST: 708, 240...            0.456345  \n",
      "4   LARCENY: 65508, COMMON ASSAULT: 48061, BURGLAR...            0.000000  \n",
      "5                 O: 128776, I: 124454, Outside: 5113           11.531591  \n",
      "6          FIREARM: 29036, OTHER: 17313, KNIFE: 10023           78.982173  \n",
      "7               114.0: 4171, 913.0: 4109, 111.0: 3950            0.811584  \n",
      "8   NORTHEAST: 44207, SOUTHEAST: 41816, CENTRAL: 3...            0.000000  \n",
      "9   DOWNTOWN: 9312, FRANKFORD: 6922, BELAIR-EDISON...            3.587910  \n",
      "10                                               None            0.558476  \n",
      "11                                               None            0.558476  \n",
      "12                                               None          100.000000  \n",
      "13  STREET: 104827, ROW/TOWNHOUSE-OCC: 54077, APT/...           11.617668  \n",
      "14   Tri-District: 6607, Western: 5825, Central: 5420           88.186951  \n",
      "15                                               None            0.000000  \n"
     ]
    }
   ],
   "source": [
    "import pandas as pd\n",
    "\n",
    "# Load the dataset\n",
    "data = pd.read_csv('Baltimore911.csv')\n",
    "\n",
    "# Number of columns\n",
    "num_columns = len(data.columns)\n",
    "\n",
    "# Number of rows\n",
    "num_rows = len(data)\n",
    "\n",
    "# Create an empty dictionary to store the column information\n",
    "column_info = {\n",
    "    'Column Name': [],\n",
    "    'Data Type': [],\n",
    "    'Min': [],\n",
    "    'Max': [],\n",
    "    'Median': [],\n",
    "    'Mean': [],\n",
    "    'Std Deviation': [],\n",
    "    'Total Unique Values': [],\n",
    "    'Top 3 Values': [],\n",
    "    'Percentage Missing': []\n",
    "}\n",
    "\n",
    "# Loop through each column to gather information\n",
    "for col in data.columns:\n",
    "    column_info['Column Name'].append(col)\n",
    "    \n",
    "    # Data type\n",
    "    data_type = data[col].dtype\n",
    "    column_info['Data Type'].append(str(data_type))\n",
    "    \n",
    "    # Check if it's temporal (assuming datetime or date types)\n",
    "    if data_type == 'datetime64[ns]' or data_type == 'datetime64':\n",
    "        column_info['Data Type'][-1] = 'Temporal'\n",
    "    # Check if it's spatial (assuming geographic coordinates, e.g., latitude and longitude)\n",
    "    elif col.lower() == 'latitude' or col.lower() == 'longitude':\n",
    "        column_info['Data Type'][-1] = 'Spatial'\n",
    "        \n",
    "    # Check if it's continuous\n",
    "    if data_type in ['int64', 'float64']:\n",
    "        column_info['Min'].append(data[col].min())\n",
    "        column_info['Max'].append(data[col].max())\n",
    "        column_info['Median'].append(data[col].median())\n",
    "        column_info['Mean'].append(data[col].mean())\n",
    "        column_info['Std Deviation'].append(data[col].std())\n",
    "        column_info['Total Unique Values'].append(None)  # Placeholder\n",
    "        column_info['Top 3 Values'].append(None)  # Placeholder\n",
    "    else:\n",
    "        column_info['Min'].append(None)\n",
    "        column_info['Max'].append(None)\n",
    "        column_info['Median'].append(None)\n",
    "        column_info['Mean'].append(None)\n",
    "        column_info['Std Deviation'].append(None)\n",
    "        unique_values = data[col].nunique()\n",
    "        column_info['Total Unique Values'].append(unique_values)\n",
    "        top_3_values = data[col].value_counts().head(3)\n",
    "        column_info['Top 3 Values'].append(', '.join(f\"{value}: {count}\" for value, count in top_3_values.items()))\n",
    "    \n",
    "    # Percentage of missing values\n",
    "    percentage_missing = (data[col].isnull().sum() / num_rows) * 100\n",
    "    column_info['Percentage Missing'].append(percentage_missing)\n",
    "\n",
    "# Create a DataFrame from the dictionary\n",
    "profile_table = pd.DataFrame(column_info)\n",
    "\n",
    "# Display the profile table\n",
    "print(profile_table)"
   ]
  },
  {
   "cell_type": "code",
   "execution_count": 6,
   "id": "7763454c",
   "metadata": {},
   "outputs": [
    {
     "name": "stdout",
     "output_type": "stream",
     "text": [
      "CrimeDate          datetime64[ns]\n",
      "CrimeTime                  object\n",
      "CrimeCode                  object\n",
      "Location                   object\n",
      "Description                object\n",
      "Inside/Outside             object\n",
      "Weapon                     object\n",
      "Post                       object\n",
      "District                   object\n",
      "Neighborhood               object\n",
      "Longitude                 float64\n",
      "Latitude                  float64\n",
      "Location 1                float64\n",
      "Premise                    object\n",
      "vri_name1                  object\n",
      "Total Incidents             int64\n",
      "dtype: object\n",
      "0   2020-02-08\n",
      "1   2020-02-08\n",
      "2   2020-02-08\n",
      "3   2020-02-08\n",
      "4   2020-02-08\n",
      "Name: CrimeDate, dtype: datetime64[ns]\n"
     ]
    },
    {
     "name": "stderr",
     "output_type": "stream",
     "text": [
      "/var/folders/gl/yfrd10rx2wn9m4_b63dbblc40000gn/T/ipykernel_80728/82699850.py:4: DtypeWarning: Columns (7) have mixed types. Specify dtype option on import or set low_memory=False.\n",
      "  data = pd.read_csv('Baltimore911.csv')\n"
     ]
    }
   ],
   "source": [
    "import pandas as pd\n",
    "\n",
    "# Load the dataset\n",
    "data = pd.read_csv('Baltimore911.csv')\n",
    "\n",
    "# Convert \"CrimeDate\" column to datetime\n",
    "data['CrimeDate'] = pd.to_datetime(data['CrimeDate'])\n",
    "\n",
    "# Check the data types after conversion\n",
    "print(data.dtypes)\n",
    "\n",
    "\n",
    "# Display the head of the \"CrimeDate\" column\n",
    "print(data['CrimeDate'].head())\n"
   ]
  },
  {
   "cell_type": "code",
   "execution_count": 12,
   "id": "7156a1f1",
   "metadata": {},
   "outputs": [
    {
     "name": "stderr",
     "output_type": "stream",
     "text": [
      "/var/folders/gl/yfrd10rx2wn9m4_b63dbblc40000gn/T/ipykernel_80728/668141251.py:4: DtypeWarning: Columns (7) have mixed types. Specify dtype option on import or set low_memory=False.\n",
      "  data = pd.read_csv('Baltimore911.csv')\n"
     ]
    },
    {
     "name": "stdout",
     "output_type": "stream",
     "text": [
      "   Number of Columns  Number of Rows\n",
      "0                 16          292761\n"
     ]
    }
   ],
   "source": [
    "import pandas as pd\n",
    "\n",
    "# Load the dataset\n",
    "data = pd.read_csv('Baltimore911.csv')\n",
    "\n",
    "# Number of columns\n",
    "num_columns = len(data.columns)\n",
    "\n",
    "# Number of rows\n",
    "num_rows = len(data)\n",
    "\n",
    "# Create a small summary table\n",
    "summary_table = pd.DataFrame({'Number of Columns': [num_columns], 'Number of Rows': [num_rows]})\n",
    "\n",
    "# Display the summary table\n",
    "print(summary_table)\n"
   ]
  },
  {
   "cell_type": "code",
   "execution_count": null,
   "id": "69bc844f",
   "metadata": {},
   "outputs": [],
   "source": []
  }
 ],
 "metadata": {
  "kernelspec": {
   "display_name": "Python 3 (ipykernel)",
   "language": "python",
   "name": "python3"
  },
  "language_info": {
   "codemirror_mode": {
    "name": "ipython",
    "version": 3
   },
   "file_extension": ".py",
   "mimetype": "text/x-python",
   "name": "python",
   "nbconvert_exporter": "python",
   "pygments_lexer": "ipython3",
   "version": "3.11.4"
  }
 },
 "nbformat": 4,
 "nbformat_minor": 5
}
